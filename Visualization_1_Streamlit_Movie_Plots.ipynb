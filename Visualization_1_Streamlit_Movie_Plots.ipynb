{
  "nbformat": 4,
  "nbformat_minor": 0,
  "metadata": {
    "colab": {
      "name": "Visualization 1 - Streamlit Movie Plots.ipynb",
      "provenance": [],
      "collapsed_sections": [],
      "include_colab_link": true
    },
    "kernelspec": {
      "display_name": "Python 3",
      "name": "python3"
    },
    "language_info": {
      "name": "python"
    }
  },
  "cells": [
    {
      "cell_type": "markdown",
      "metadata": {
        "id": "view-in-github",
        "colab_type": "text"
      },
      "source": [
        "<a href=\"https://colab.research.google.com/github/plaban1981/NLP-with-Python/blob/master/Visualization_1_Streamlit_Movie_Plots.ipynb\" target=\"_parent\"><img src=\"https://colab.research.google.com/assets/colab-badge.svg\" alt=\"Open In Colab\"/></a>"
      ]
    },
    {
      "cell_type": "code",
      "metadata": {
        "id": "zwLZCOOYMvjd"
      },
      "source": [
        "!pip install --quiet streamlit==1.1.0  "
      ],
      "execution_count": null,
      "outputs": []
    },
    {
      "cell_type": "code",
      "metadata": {
        "colab": {
          "base_uri": "https://localhost:8080/"
        },
        "id": "kmKCuRcMRIZz",
        "outputId": "4b5e05e1-8af7-4395-ffb9-61d60034626e"
      },
      "source": [
        "from google.colab import drive\n",
        "drive.mount('/content/drive')"
      ],
      "execution_count": null,
      "outputs": [
        {
          "name": "stdout",
          "output_type": "stream",
          "text": [
            "Mounted at /content/drive\n"
          ]
        }
      ]
    },
    {
      "cell_type": "code",
      "metadata": {
        "colab": {
          "base_uri": "https://localhost:8080/"
        },
        "id": "xrWN8c4xRP1R",
        "outputId": "a6082d13-50e7-49e5-9851-399b420eaf28"
      },
      "source": [
        "%%writefile app.py\n",
        "import pandas as pd\n",
        "import streamlit as st\n",
        "import json\n",
        "import streamlit.components.v1 as components\n",
        "\n",
        "\n",
        "# st.write('# Moviepro.ai')\n",
        "st.markdown(\"<h1 style='text-align: center; color: blue;'>Moviepro.ai</h1>\", unsafe_allow_html=True)\n",
        "st.write(\"## Organize your movie scripts, powered by AI.\")\n",
        "\n",
        "movie_plots_path = \"/content/drive/My Drive/Practical Introduction to NLP/Cohort 1: Practical Intro to NLP (Nov 13 - Dec 4, 2021)/Week 1/American_Movie_Plots_2005_2021_v3.csv\"\n",
        "\n",
        "@st.cache\n",
        "def load_data():\n",
        "    return pd.read_csv(movie_plots_path)\n",
        "\n",
        "# Read the data\n",
        "data = load_data()\n",
        "\n",
        "st.write(\"\")\n",
        "if \"page\" not in st.session_state:\n",
        "    st.session_state.page = 0\n",
        "\n",
        "def next_page():\n",
        "    st.session_state.page += 1\n",
        "\n",
        "def prev_page():\n",
        "    st.session_state.page -= 1\n",
        "\n",
        "\n",
        "page_number = 0\n",
        "last_page = len(data)\n",
        "\n",
        "prev, middle ,next = st.columns([2, 10, 2])\n",
        "\n",
        "if st.session_state.page < last_page:\n",
        "    next.button(\">\", on_click=next_page)\n",
        "else:\n",
        "    next.write(\"\")  # this makes the empty column show up on mobile\n",
        "\n",
        "if st.session_state.page > 0:\n",
        "    prev.button(\"<\", on_click=prev_page)\n",
        "else:\n",
        "    prev.write(\"\")  # this makes the empty column show up on mobile\n",
        "\n",
        "middle.write(f\"Page {1+st.session_state.page} of {last_page}\")\n",
        "\n",
        "row = data.iloc[st.session_state.page]\n",
        "movie_name = row['Movie Name']\n",
        "plot = row['Plot']\n",
        "st.header(movie_name)\n",
        "st.write(plot)"
      ],
      "execution_count": null,
      "outputs": [
        {
          "name": "stdout",
          "output_type": "stream",
          "text": [
            "Writing app.py\n"
          ]
        }
      ]
    },
    {
      "cell_type": "code",
      "metadata": {
        "colab": {
          "background_save": true,
          "base_uri": "https://localhost:8080/"
        },
        "id": "Aecl5fiTR8HV",
        "outputId": "b52ef81e-ef2e-4969-98cc-6847714aea37"
      },
      "source": [
        "!streamlit run app.py & npx localtunnel --port 8501"
      ],
      "execution_count": null,
      "outputs": [
        {
          "name": "stdout",
          "output_type": "stream",
          "text": [
            "\u001b[K\u001b[?25hnpx: installed 22 in 2.88s\n",
            "\u001b[0m\n",
            "\u001b[34m\u001b[1m  You can now view your Streamlit app in your browser.\u001b[0m\n",
            "\u001b[0m\n",
            "\u001b[34m  Network URL: \u001b[0m\u001b[1mhttp://172.28.0.2:8501\u001b[0m\n",
            "\u001b[34m  External URL: \u001b[0m\u001b[1mhttp://35.224.81.21:8501\u001b[0m\n",
            "\u001b[0m\n",
            "your url is: https://ancient-bear-30.loca.lt\n"
          ]
        }
      ]
    }
  ]
}