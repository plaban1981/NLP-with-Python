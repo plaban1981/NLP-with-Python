{
  "nbformat": 4,
  "nbformat_minor": 0,
  "metadata": {
    "kernelspec": {
      "name": "python3",
      "display_name": "Python 3"
    },
    "language_info": {
      "codemirror_mode": {
        "name": "ipython",
        "version": 3
      },
      "file_extension": ".py",
      "mimetype": "text/x-python",
      "name": "python",
      "nbconvert_exporter": "python",
      "pygments_lexer": "ipython3",
      "version": "3.7.3"
    },
    "colab": {
      "name": "NLP Tweets.ipynb",
      "provenance": [],
      "collapsed_sections": [],
      "include_colab_link": true
    },
    "accelerator": "GPU"
  },
  "cells": [
    {
      "cell_type": "markdown",
      "metadata": {
        "id": "view-in-github",
        "colab_type": "text"
      },
      "source": [
        "<a href=\"https://colab.research.google.com/github/plaban1981/NLP-with-Python/blob/master/NLP_Tweets.ipynb\" target=\"_parent\"><img src=\"https://colab.research.google.com/assets/colab-badge.svg\" alt=\"Open In Colab\"/></a>"
      ]
    },
    {
      "cell_type": "code",
      "metadata": {
        "id": "Ot9iapn7r2Ki"
      },
      "source": [
        "import pandas as pd\n",
        "import numpy as np\n",
        "import nltk\n",
        "import string"
      ],
      "execution_count": null,
      "outputs": []
    },
    {
      "cell_type": "code",
      "metadata": {
        "id": "tWf8x48XsR3k",
        "colab": {
          "base_uri": "https://localhost:8080/",
          "height": 105
        },
        "outputId": "eeb62d83-c189-4eae-8e0d-090881c31fe6"
      },
      "source": [
        "nltk.download('stopwords')\n",
        "nltk.download('punkt')"
      ],
      "execution_count": null,
      "outputs": [
        {
          "output_type": "stream",
          "text": [
            "[nltk_data] Downloading package stopwords to /root/nltk_data...\n",
            "[nltk_data]   Unzipping corpora/stopwords.zip.\n",
            "[nltk_data] Downloading package punkt to /root/nltk_data...\n",
            "[nltk_data]   Unzipping tokenizers/punkt.zip.\n"
          ],
          "name": "stdout"
        },
        {
          "output_type": "execute_result",
          "data": {
            "text/plain": [
              "True"
            ]
          },
          "metadata": {
            "tags": []
          },
          "execution_count": 2
        }
      ]
    },
    {
      "cell_type": "code",
      "metadata": {
        "id": "bEqhPf3cr3_E",
        "colab": {
          "base_uri": "https://localhost:8080/",
          "height": 125
        },
        "outputId": "aabd6343-7d2c-4c4e-c66e-0cf88dba0b00"
      },
      "source": [
        "from google.colab import drive\n",
        "drive.mount('/content/drive')"
      ],
      "execution_count": null,
      "outputs": [
        {
          "output_type": "stream",
          "text": [
            "Go to this URL in a browser: https://accounts.google.com/o/oauth2/auth?client_id=947318989803-6bn6qk8qdgf4n4g3pfee6491hc0brc4i.apps.googleusercontent.com&redirect_uri=urn%3aietf%3awg%3aoauth%3a2.0%3aoob&response_type=code&scope=email%20https%3a%2f%2fwww.googleapis.com%2fauth%2fdocs.test%20https%3a%2f%2fwww.googleapis.com%2fauth%2fdrive%20https%3a%2f%2fwww.googleapis.com%2fauth%2fdrive.photos.readonly%20https%3a%2f%2fwww.googleapis.com%2fauth%2fpeopleapi.readonly\n",
            "\n",
            "Enter your authorization code:\n",
            "··········\n",
            "Mounted at /content/drive\n"
          ],
          "name": "stdout"
        }
      ]
    },
    {
      "cell_type": "code",
      "metadata": {
        "id": "JnRWYqTbr2Kr"
      },
      "source": [
        "dataframe = pd.read_csv('/content/drive/My Drive/NLP Tweets/train.csv')\n",
        "test = pd.read_csv('/content/drive/My Drive/NLP Tweets/test.csv')"
      ],
      "execution_count": null,
      "outputs": []
    },
    {
      "cell_type": "code",
      "metadata": {
        "id": "F00FPPvkjnSi"
      },
      "source": [
        "test['target'] = -1"
      ],
      "execution_count": null,
      "outputs": []
    },
    {
      "cell_type": "code",
      "metadata": {
        "id": "1ewJN04LjlB1"
      },
      "source": [
        "data = pd.concat([dataframe,test])"
      ],
      "execution_count": null,
      "outputs": []
    },
    {
      "cell_type": "code",
      "metadata": {
        "id": "K7nRuFl3r2Kx",
        "colab": {
          "base_uri": "https://localhost:8080/",
          "height": 199
        },
        "outputId": "b0a39f1a-32f8-4fee-ff93-a151a532bb42"
      },
      "source": [
        "data.head()"
      ],
      "execution_count": null,
      "outputs": [
        {
          "output_type": "execute_result",
          "data": {
            "text/html": [
              "<div>\n",
              "<style scoped>\n",
              "    .dataframe tbody tr th:only-of-type {\n",
              "        vertical-align: middle;\n",
              "    }\n",
              "\n",
              "    .dataframe tbody tr th {\n",
              "        vertical-align: top;\n",
              "    }\n",
              "\n",
              "    .dataframe thead th {\n",
              "        text-align: right;\n",
              "    }\n",
              "</style>\n",
              "<table border=\"1\" class=\"dataframe\">\n",
              "  <thead>\n",
              "    <tr style=\"text-align: right;\">\n",
              "      <th></th>\n",
              "      <th>id</th>\n",
              "      <th>keyword</th>\n",
              "      <th>location</th>\n",
              "      <th>text</th>\n",
              "      <th>target</th>\n",
              "    </tr>\n",
              "  </thead>\n",
              "  <tbody>\n",
              "    <tr>\n",
              "      <th>0</th>\n",
              "      <td>1</td>\n",
              "      <td>NaN</td>\n",
              "      <td>NaN</td>\n",
              "      <td>Our Deeds are the Reason of this #earthquake M...</td>\n",
              "      <td>1</td>\n",
              "    </tr>\n",
              "    <tr>\n",
              "      <th>1</th>\n",
              "      <td>4</td>\n",
              "      <td>NaN</td>\n",
              "      <td>NaN</td>\n",
              "      <td>Forest fire near La Ronge Sask. Canada</td>\n",
              "      <td>1</td>\n",
              "    </tr>\n",
              "    <tr>\n",
              "      <th>2</th>\n",
              "      <td>5</td>\n",
              "      <td>NaN</td>\n",
              "      <td>NaN</td>\n",
              "      <td>All residents asked to 'shelter in place' are ...</td>\n",
              "      <td>1</td>\n",
              "    </tr>\n",
              "    <tr>\n",
              "      <th>3</th>\n",
              "      <td>6</td>\n",
              "      <td>NaN</td>\n",
              "      <td>NaN</td>\n",
              "      <td>13,000 people receive #wildfires evacuation or...</td>\n",
              "      <td>1</td>\n",
              "    </tr>\n",
              "    <tr>\n",
              "      <th>4</th>\n",
              "      <td>7</td>\n",
              "      <td>NaN</td>\n",
              "      <td>NaN</td>\n",
              "      <td>Just got sent this photo from Ruby #Alaska as ...</td>\n",
              "      <td>1</td>\n",
              "    </tr>\n",
              "  </tbody>\n",
              "</table>\n",
              "</div>"
            ],
            "text/plain": [
              "   id keyword  ...                                               text target\n",
              "0   1     NaN  ...  Our Deeds are the Reason of this #earthquake M...      1\n",
              "1   4     NaN  ...             Forest fire near La Ronge Sask. Canada      1\n",
              "2   5     NaN  ...  All residents asked to 'shelter in place' are ...      1\n",
              "3   6     NaN  ...  13,000 people receive #wildfires evacuation or...      1\n",
              "4   7     NaN  ...  Just got sent this photo from Ruby #Alaska as ...      1\n",
              "\n",
              "[5 rows x 5 columns]"
            ]
          },
          "metadata": {
            "tags": []
          },
          "execution_count": 153
        }
      ]
    },
    {
      "cell_type": "code",
      "metadata": {
        "id": "1PBCiN6nr2K3",
        "colab": {
          "base_uri": "https://localhost:8080/",
          "height": 34
        },
        "outputId": "c6b40b13-d8ad-42f3-b034-51824a95f7c5"
      },
      "source": [
        "data.shape"
      ],
      "execution_count": null,
      "outputs": [
        {
          "output_type": "execute_result",
          "data": {
            "text/plain": [
              "(10876, 5)"
            ]
          },
          "metadata": {
            "tags": []
          },
          "execution_count": 154
        }
      ]
    },
    {
      "cell_type": "code",
      "metadata": {
        "id": "EZSRzNflr2K8",
        "colab": {
          "base_uri": "https://localhost:8080/",
          "height": 122
        },
        "outputId": "51e8e18d-ceca-4b86-e879-6890518f4eb9"
      },
      "source": [
        "data.isnull().sum()"
      ],
      "execution_count": null,
      "outputs": [
        {
          "output_type": "execute_result",
          "data": {
            "text/plain": [
              "id             0\n",
              "keyword       87\n",
              "location    3638\n",
              "text           0\n",
              "target         0\n",
              "dtype: int64"
            ]
          },
          "metadata": {
            "tags": []
          },
          "execution_count": 155
        }
      ]
    },
    {
      "cell_type": "code",
      "metadata": {
        "id": "nL3FA-pAr2LB",
        "colab": {
          "base_uri": "https://localhost:8080/",
          "height": 351
        },
        "outputId": "dbfef491-b2de-4285-f58b-14b8570b15d2"
      },
      "source": [
        "data[['text','target']].head(10)"
      ],
      "execution_count": null,
      "outputs": [
        {
          "output_type": "execute_result",
          "data": {
            "text/html": [
              "<div>\n",
              "<style scoped>\n",
              "    .dataframe tbody tr th:only-of-type {\n",
              "        vertical-align: middle;\n",
              "    }\n",
              "\n",
              "    .dataframe tbody tr th {\n",
              "        vertical-align: top;\n",
              "    }\n",
              "\n",
              "    .dataframe thead th {\n",
              "        text-align: right;\n",
              "    }\n",
              "</style>\n",
              "<table border=\"1\" class=\"dataframe\">\n",
              "  <thead>\n",
              "    <tr style=\"text-align: right;\">\n",
              "      <th></th>\n",
              "      <th>text</th>\n",
              "      <th>target</th>\n",
              "    </tr>\n",
              "  </thead>\n",
              "  <tbody>\n",
              "    <tr>\n",
              "      <th>0</th>\n",
              "      <td>Our Deeds are the Reason of this #earthquake M...</td>\n",
              "      <td>1</td>\n",
              "    </tr>\n",
              "    <tr>\n",
              "      <th>1</th>\n",
              "      <td>Forest fire near La Ronge Sask. Canada</td>\n",
              "      <td>1</td>\n",
              "    </tr>\n",
              "    <tr>\n",
              "      <th>2</th>\n",
              "      <td>All residents asked to 'shelter in place' are ...</td>\n",
              "      <td>1</td>\n",
              "    </tr>\n",
              "    <tr>\n",
              "      <th>3</th>\n",
              "      <td>13,000 people receive #wildfires evacuation or...</td>\n",
              "      <td>1</td>\n",
              "    </tr>\n",
              "    <tr>\n",
              "      <th>4</th>\n",
              "      <td>Just got sent this photo from Ruby #Alaska as ...</td>\n",
              "      <td>1</td>\n",
              "    </tr>\n",
              "    <tr>\n",
              "      <th>5</th>\n",
              "      <td>#RockyFire Update =&gt; California Hwy. 20 closed...</td>\n",
              "      <td>1</td>\n",
              "    </tr>\n",
              "    <tr>\n",
              "      <th>6</th>\n",
              "      <td>#flood #disaster Heavy rain causes flash flood...</td>\n",
              "      <td>1</td>\n",
              "    </tr>\n",
              "    <tr>\n",
              "      <th>7</th>\n",
              "      <td>I'm on top of the hill and I can see a fire in...</td>\n",
              "      <td>1</td>\n",
              "    </tr>\n",
              "    <tr>\n",
              "      <th>8</th>\n",
              "      <td>There's an emergency evacuation happening now ...</td>\n",
              "      <td>1</td>\n",
              "    </tr>\n",
              "    <tr>\n",
              "      <th>9</th>\n",
              "      <td>I'm afraid that the tornado is coming to our a...</td>\n",
              "      <td>1</td>\n",
              "    </tr>\n",
              "  </tbody>\n",
              "</table>\n",
              "</div>"
            ],
            "text/plain": [
              "                                                text  target\n",
              "0  Our Deeds are the Reason of this #earthquake M...       1\n",
              "1             Forest fire near La Ronge Sask. Canada       1\n",
              "2  All residents asked to 'shelter in place' are ...       1\n",
              "3  13,000 people receive #wildfires evacuation or...       1\n",
              "4  Just got sent this photo from Ruby #Alaska as ...       1\n",
              "5  #RockyFire Update => California Hwy. 20 closed...       1\n",
              "6  #flood #disaster Heavy rain causes flash flood...       1\n",
              "7  I'm on top of the hill and I can see a fire in...       1\n",
              "8  There's an emergency evacuation happening now ...       1\n",
              "9  I'm afraid that the tornado is coming to our a...       1"
            ]
          },
          "metadata": {
            "tags": []
          },
          "execution_count": 156
        }
      ]
    },
    {
      "cell_type": "code",
      "metadata": {
        "id": "wGcGhilGr161"
      },
      "source": [
        "data['text'] = data['text'].apply(lambda x:str.lower(x))"
      ],
      "execution_count": null,
      "outputs": []
    },
    {
      "cell_type": "code",
      "metadata": {
        "id": "3xDanqgwr_i2",
        "colab": {
          "base_uri": "https://localhost:8080/",
          "height": 228
        },
        "outputId": "5b036a68-34b7-44b1-d5c4-c3a009d61dbe"
      },
      "source": [
        "data['text']"
      ],
      "execution_count": null,
      "outputs": [
        {
          "output_type": "execute_result",
          "data": {
            "text/plain": [
              "0       our deeds are the reason of this #earthquake m...\n",
              "1                  forest fire near la ronge sask. canada\n",
              "2       all residents asked to 'shelter in place' are ...\n",
              "3       13,000 people receive #wildfires evacuation or...\n",
              "4       just got sent this photo from ruby #alaska as ...\n",
              "                              ...                        \n",
              "3258    earthquake safety los angeles ûò safety faste...\n",
              "3259    storm in ri worse than last hurricane. my city...\n",
              "3260    green line derailment in chicago http://t.co/u...\n",
              "3261    meg issues hazardous weather outlook (hwo) htt...\n",
              "3262    #cityofcalgary has activated its municipal eme...\n",
              "Name: text, Length: 10876, dtype: object"
            ]
          },
          "metadata": {
            "tags": []
          },
          "execution_count": 158
        }
      ]
    },
    {
      "cell_type": "code",
      "metadata": {
        "id": "PfjXrYqVnjDe"
      },
      "source": [
        "#StopWords removal function\n",
        "def remove_stopwords(string):\n",
        "  word_list = nltk.tokenize.word_tokenize(string)\n",
        "  stop = list(nltk.corpus.stopwords.words('english'))\n",
        "  refine = [word for word in word_list if word not in stop]\n",
        "  return ' '.join(refine)"
      ],
      "execution_count": null,
      "outputs": []
    },
    {
      "cell_type": "code",
      "metadata": {
        "id": "1GltkQGKpJhk"
      },
      "source": [
        "data['pure_text'] = data['text'].apply(remove_stopwords)"
      ],
      "execution_count": null,
      "outputs": []
    },
    {
      "cell_type": "code",
      "metadata": {
        "id": "_2cEPQZ-p37m"
      },
      "source": [
        "# Removal of punctuation\n",
        "def remove_punct(s):\n",
        "  return ''.join([c for c in s if c not in string.punctuation])\n",
        "\n",
        "data['ultra_pure_text'] = data['pure_text'].apply(remove_punct)"
      ],
      "execution_count": null,
      "outputs": []
    },
    {
      "cell_type": "code",
      "metadata": {
        "id": "nDJEC1lHryPq"
      },
      "source": [
        "import re\n",
        "\n",
        "def remove_URL(text):\n",
        "  url = re.compile(r'https?://\\S+|www\\.\\S+')\n",
        "  return url.sub(r'',text)\n",
        "\n",
        "def remove_numbers(text):\n",
        "  number = re.compile(r'\\d')\n",
        "  return number.sub(r'',text)"
      ],
      "execution_count": null,
      "outputs": []
    },
    {
      "cell_type": "code",
      "metadata": {
        "id": "1Ryn56HVvPD7"
      },
      "source": [
        "data['ultra_pure_text'] = data['ultra_pure_text'].apply(remove_URL)\n",
        "data['ultra_pure_text'] = data['ultra_pure_text'].apply(remove_numbers)"
      ],
      "execution_count": null,
      "outputs": []
    },
    {
      "cell_type": "code",
      "metadata": {
        "id": "a1qPOeKLFxDC",
        "colab": {
          "base_uri": "https://localhost:8080/",
          "height": 87
        },
        "outputId": "a5679335-8cd1-4db9-f3a1-abe2324ba94d"
      },
      "source": [
        "from nltk.stem import WordNetLemmatizer\n",
        "wordnet_lemmatizer = WordNetLemmatizer()\n",
        "nltk.download(\"wordnet\")\n",
        "nltk.download('punkt')\n",
        "def lemma(text):\n",
        "  words = nltk.word_tokenize(text)\n",
        "  sen = [wordnet_lemmatizer.lemmatize(i, pos=\"v\") for i in words]\n",
        "  return \" \".join(sen)\n",
        "\n",
        "\n",
        "data['ultra_pure_text'] = data['ultra_pure_text'].apply(lemma)"
      ],
      "execution_count": null,
      "outputs": [
        {
          "output_type": "stream",
          "text": [
            "[nltk_data] Downloading package wordnet to /root/nltk_data...\n",
            "[nltk_data]   Package wordnet is already up-to-date!\n",
            "[nltk_data] Downloading package punkt to /root/nltk_data...\n",
            "[nltk_data]   Package punkt is already up-to-date!\n"
          ],
          "name": "stdout"
        }
      ]
    },
    {
      "cell_type": "code",
      "metadata": {
        "id": "7RcMP1FyKlmQ",
        "colab": {
          "base_uri": "https://localhost:8080/",
          "height": 34
        },
        "outputId": "492d8395-1f68-4595-86f4-57ff7537ad15"
      },
      "source": [
        "dataframe['target'].value_counts()[0]/7613"
      ],
      "execution_count": null,
      "outputs": [
        {
          "output_type": "execute_result",
          "data": {
            "text/plain": [
              "0.5703402075397347"
            ]
          },
          "metadata": {
            "tags": []
          },
          "execution_count": 165
        }
      ]
    },
    {
      "cell_type": "code",
      "metadata": {
        "id": "WGWrT29i42kY"
      },
      "source": [
        "from keras.preprocessing.text import Tokenizer\n",
        "from keras.preprocessing.sequence import pad_sequences"
      ],
      "execution_count": null,
      "outputs": []
    },
    {
      "cell_type": "code",
      "metadata": {
        "id": "bb4EqluX421V"
      },
      "source": [
        "data['len_tweets'] = data['ultra_pure_text'].apply(len)"
      ],
      "execution_count": null,
      "outputs": []
    },
    {
      "cell_type": "code",
      "metadata": {
        "id": "HATU3em642zs",
        "colab": {
          "base_uri": "https://localhost:8080/",
          "height": 175
        },
        "outputId": "a61956f1-054c-457a-d39f-9fcc38a16637"
      },
      "source": [
        "data['len_tweets'].describe()"
      ],
      "execution_count": null,
      "outputs": [
        {
          "output_type": "execute_result",
          "data": {
            "text/plain": [
              "count    10876.000000\n",
              "mean        72.860886\n",
              "std         26.606034\n",
              "min          0.000000\n",
              "25%         55.000000\n",
              "50%         76.000000\n",
              "75%         94.000000\n",
              "max        137.000000\n",
              "Name: len_tweets, dtype: float64"
            ]
          },
          "metadata": {
            "tags": []
          },
          "execution_count": 168
        }
      ]
    },
    {
      "cell_type": "code",
      "metadata": {
        "id": "hR3O4-GJ42wL"
      },
      "source": [
        "# So we will consider first 80 characters of the tweets\n",
        "# Best config -> max_words = 10000 maxlen = 100\n",
        "\n",
        "\n",
        "maxlen = 100\n",
        "max_words = 10000\n",
        "\n",
        "tokenizer = Tokenizer(num_words=max_words)\n",
        "tokenizer.fit_on_texts(data['ultra_pure_text'])\n",
        "sequences = tokenizer.texts_to_sequences(data['ultra_pure_text'])\n",
        "\n",
        "word_index = tokenizer.word_index"
      ],
      "execution_count": null,
      "outputs": []
    },
    {
      "cell_type": "code",
      "metadata": {
        "id": "TtlRaz9h5Zp_"
      },
      "source": [
        "data1 = pad_sequences(sequences,maxlen=maxlen)"
      ],
      "execution_count": null,
      "outputs": []
    },
    {
      "cell_type": "code",
      "metadata": {
        "id": "f90C-ksb7AOR",
        "colab": {
          "base_uri": "https://localhost:8080/",
          "height": 34
        },
        "outputId": "9bd85fa8-239e-4442-8455-1290eb8e7682"
      },
      "source": [
        "len(word_index) # Total this many words found!"
      ],
      "execution_count": null,
      "outputs": [
        {
          "output_type": "execute_result",
          "data": {
            "text/plain": [
              "25493"
            ]
          },
          "metadata": {
            "tags": []
          },
          "execution_count": 171
        }
      ]
    },
    {
      "cell_type": "code",
      "metadata": {
        "id": "Pw_RdwrP7Abk",
        "colab": {
          "base_uri": "https://localhost:8080/",
          "height": 34
        },
        "outputId": "517a0548-1603-4da3-d0f0-bdf75566fe08"
      },
      "source": [
        "data1.shape"
      ],
      "execution_count": null,
      "outputs": [
        {
          "output_type": "execute_result",
          "data": {
            "text/plain": [
              "(10876, 100)"
            ]
          },
          "metadata": {
            "tags": []
          },
          "execution_count": 172
        }
      ]
    },
    {
      "cell_type": "code",
      "metadata": {
        "id": "p3j0poOVkuzl",
        "colab": {
          "base_uri": "https://localhost:8080/",
          "height": 34
        },
        "outputId": "e44659c1-0508-4037-ebe6-8edbd3f380ab"
      },
      "source": [
        "type(data1)"
      ],
      "execution_count": null,
      "outputs": [
        {
          "output_type": "execute_result",
          "data": {
            "text/plain": [
              "numpy.ndarray"
            ]
          },
          "metadata": {
            "tags": []
          },
          "execution_count": 173
        }
      ]
    },
    {
      "cell_type": "code",
      "metadata": {
        "id": "dS-b0jLl2EOZ"
      },
      "source": [
        "embeddings_index = {}\n",
        "f = open('/content/drive/My Drive/NLP Tweets/glove.6B.300d.txt')\n",
        "\n",
        "for line in f:\n",
        "  values = line.split()\n",
        "  word = values[0]\n",
        "  coefs = np.asarray(values[1:],dtype='float32')\n",
        "  embeddings_index[word] = coefs\n",
        "\n",
        "f.close()"
      ],
      "execution_count": null,
      "outputs": []
    },
    {
      "cell_type": "code",
      "metadata": {
        "id": "TCsub30PkWr6"
      },
      "source": [
        "from keras.utils import to_categorical\n",
        "\n",
        "train = data1[:6613,:]\n",
        "y_train = dataframe['target'][:6613]\n",
        "#y_train = to_categorical(y_train)\n",
        "\n",
        "val = data1[6613:7613,:]\n",
        "y_val = dataframe['target'][6613:7613]\n",
        "#y_val = to_categorical(y_val)\n",
        "\n",
        "xtest = data1[7613:,:]"
      ],
      "execution_count": null,
      "outputs": []
    },
    {
      "cell_type": "code",
      "metadata": {
        "id": "iQ9fKG6JdoyC"
      },
      "source": [
        "embedding_dim = 300\n",
        "\n",
        "embedding_matrix = np.zeros((max_words,embedding_dim))\n",
        "\n",
        "for word,i in word_index.items():\n",
        "  if i < max_words:\n",
        "    embedding_vector = embeddings_index.get(word)\n",
        "    if embedding_vector is not None:\n",
        "      embedding_matrix[i] = embedding_vector"
      ],
      "execution_count": null,
      "outputs": []
    },
    {
      "cell_type": "code",
      "metadata": {
        "id": "DfRTXj6_eCZN"
      },
      "source": [
        "from keras.models import Sequential\n",
        "from keras.layers import Embedding,Flatten,Dense,Dropout,Conv1D,MaxPool1D,LSTM,SimpleRNN,BatchNormalization\n",
        "from keras import regularizers"
      ],
      "execution_count": null,
      "outputs": []
    },
    {
      "cell_type": "code",
      "metadata": {
        "id": "I8P8yMG3iOuu",
        "colab": {
          "base_uri": "https://localhost:8080/",
          "height": 54
        },
        "outputId": "2da9e3aa-61c0-40dc-b855-7b9dbeb5be32"
      },
      "source": [
        "\"\"\"\n",
        "BEST MODEL\n",
        "\n",
        "\n",
        "model = Sequential()\n",
        "\n",
        "model.add(Embedding(max_words,embedding_dim,input_length=maxlen))\n",
        "\n",
        "model.add(BatchNormalization(axis=1))\n",
        "\n",
        "\n",
        "model.add(Conv1D(64,kernel_size=(2),activation='relu',kernel_regularizer=regularizers.l1(0.0006)))\n",
        "model.add(MaxPool1D(2))\n",
        "\n",
        "model.add(Conv1D(32,kernel_size=(2),activation='relu',kernel_regularizer=regularizers.l1(0.0001)))\n",
        "model.add(MaxPool1D(2))\n",
        "\n",
        "\n",
        "model.add(Flatten())\n",
        "model.add(Dropout(0.25))\n",
        "\n",
        "\n",
        "model.add(Dense(16,activation='relu',kernel_regularizer=regularizers.l2(0.07)))\n",
        "\n",
        "model.add(Dense(1,activation='sigmoid'))\n",
        "\n",
        "\n",
        "\n",
        "\"\"\""
      ],
      "execution_count": null,
      "outputs": [
        {
          "output_type": "execute_result",
          "data": {
            "text/plain": [
              "\"\\nBEST MODEL\\n\\n\\nmodel = Sequential()\\n\\nmodel.add(Embedding(max_words,embedding_dim,input_length=maxlen))\\n\\nmodel.add(BatchNormalization(axis=1))\\n\\n\\nmodel.add(Conv1D(64,kernel_size=(2),activation='relu',kernel_regularizer=regularizers.l1(0.0006)))\\nmodel.add(MaxPool1D(2))\\n\\nmodel.add(Conv1D(32,kernel_size=(2),activation='relu',kernel_regularizer=regularizers.l1(0.0001)))\\nmodel.add(MaxPool1D(2))\\n\\n\\nmodel.add(Flatten())\\nmodel.add(Dropout(0.25))\\n\\n\\nmodel.add(Dense(16,activation='relu',kernel_regularizer=regularizers.l2(0.07)))\\n\\nmodel.add(Dense(1,activation='sigmoid'))\\n\\n\\n\\n\""
            ]
          },
          "metadata": {
            "tags": []
          },
          "execution_count": 178
        }
      ]
    },
    {
      "cell_type": "code",
      "metadata": {
        "id": "vCY0UZ2Sen5J"
      },
      "source": [
        "model = Sequential()\n",
        "\n",
        "model.add(Embedding(max_words,embedding_dim,input_length=maxlen))\n",
        "\n",
        "model.add(BatchNormalization(axis=1))\n",
        "\n",
        "\n",
        "model.add(Conv1D(64,kernel_size=(2),activation='relu',kernel_regularizer=regularizers.l1(0.0006)))\n",
        "model.add(MaxPool1D(2))\n",
        "\n",
        "model.add(Conv1D(32,kernel_size=(2),activation='relu',kernel_regularizer=regularizers.l1(0.0001)))\n",
        "model.add(MaxPool1D(2))\n",
        "\n",
        "\n",
        "model.add(Flatten())\n",
        "model.add(Dropout(0.25))\n",
        "\n",
        "\n",
        "model.add(Dense(16,activation='relu',kernel_regularizer=regularizers.l2(0.07)))\n",
        "\n",
        "model.add(Dense(1,activation='sigmoid'))"
      ],
      "execution_count": null,
      "outputs": []
    },
    {
      "cell_type": "code",
      "metadata": {
        "id": "EMgbBRzefu9w"
      },
      "source": [
        "model.layers[0].set_weights([embedding_matrix])\n",
        "model.layers[0].trainable = False"
      ],
      "execution_count": null,
      "outputs": []
    },
    {
      "cell_type": "code",
      "metadata": {
        "id": "IjBBPg-yf63M",
        "colab": {
          "base_uri": "https://localhost:8080/",
          "height": 509
        },
        "outputId": "b80d0459-8719-4edb-df81-a8a2abb33f2a"
      },
      "source": [
        "model.summary()"
      ],
      "execution_count": null,
      "outputs": [
        {
          "output_type": "stream",
          "text": [
            "Model: \"sequential_7\"\n",
            "_________________________________________________________________\n",
            "Layer (type)                 Output Shape              Param #   \n",
            "=================================================================\n",
            "embedding_7 (Embedding)      (None, 100, 300)          3000000   \n",
            "_________________________________________________________________\n",
            "batch_normalization_7 (Batch (None, 100, 300)          400       \n",
            "_________________________________________________________________\n",
            "conv1d_13 (Conv1D)           (None, 99, 64)            38464     \n",
            "_________________________________________________________________\n",
            "max_pooling1d_13 (MaxPooling (None, 49, 64)            0         \n",
            "_________________________________________________________________\n",
            "conv1d_14 (Conv1D)           (None, 48, 32)            4128      \n",
            "_________________________________________________________________\n",
            "max_pooling1d_14 (MaxPooling (None, 24, 32)            0         \n",
            "_________________________________________________________________\n",
            "flatten_7 (Flatten)          (None, 768)               0         \n",
            "_________________________________________________________________\n",
            "dropout_7 (Dropout)          (None, 768)               0         \n",
            "_________________________________________________________________\n",
            "dense_13 (Dense)             (None, 16)                12304     \n",
            "_________________________________________________________________\n",
            "dense_14 (Dense)             (None, 1)                 17        \n",
            "=================================================================\n",
            "Total params: 3,055,313\n",
            "Trainable params: 55,113\n",
            "Non-trainable params: 3,000,200\n",
            "_________________________________________________________________\n"
          ],
          "name": "stdout"
        }
      ]
    },
    {
      "cell_type": "code",
      "metadata": {
        "id": "4d4qZAaXpcES"
      },
      "source": [
        "train.shape\n",
        "from keras.optimizers import Adam"
      ],
      "execution_count": null,
      "outputs": []
    },
    {
      "cell_type": "code",
      "metadata": {
        "id": "DhmNhu3Nf-Rg",
        "colab": {
          "base_uri": "https://localhost:8080/",
          "height": 185
        },
        "outputId": "00c1db82-a93b-43c3-b2f1-7eb59ac5c739"
      },
      "source": [
        "model.compile(optimizer=Adam(lr=0.0001),loss=root_mean_squared_error,metrics=['accuracy'])\n",
        "model.fit(train,y_train,batch_size=128,epochs=30)"
      ],
      "execution_count": null,
      "outputs": [
        {
          "output_type": "error",
          "ename": "NameError",
          "evalue": "ignored",
          "traceback": [
            "\u001b[0;31m---------------------------------------------------------------------------\u001b[0m",
            "\u001b[0;31mNameError\u001b[0m                                 Traceback (most recent call last)",
            "\u001b[0;32m<ipython-input-1-65d72ef9c592>\u001b[0m in \u001b[0;36m<module>\u001b[0;34m()\u001b[0m\n\u001b[0;32m----> 1\u001b[0;31m \u001b[0mmodel\u001b[0m\u001b[0;34m.\u001b[0m\u001b[0mcompile\u001b[0m\u001b[0;34m(\u001b[0m\u001b[0moptimizer\u001b[0m\u001b[0;34m=\u001b[0m\u001b[0mAdam\u001b[0m\u001b[0;34m(\u001b[0m\u001b[0mlr\u001b[0m\u001b[0;34m=\u001b[0m\u001b[0;36m0.0001\u001b[0m\u001b[0;34m)\u001b[0m\u001b[0;34m,\u001b[0m\u001b[0mloss\u001b[0m\u001b[0;34m=\u001b[0m\u001b[0mroot_mean_squared_error\u001b[0m\u001b[0;34m,\u001b[0m\u001b[0mmetrics\u001b[0m\u001b[0;34m=\u001b[0m\u001b[0;34m[\u001b[0m\u001b[0;34m'mean_squared_logarithmic_error'\u001b[0m\u001b[0;34m]\u001b[0m\u001b[0;34m)\u001b[0m\u001b[0;34m\u001b[0m\u001b[0;34m\u001b[0m\u001b[0m\n\u001b[0m\u001b[1;32m      2\u001b[0m \u001b[0mmodel\u001b[0m\u001b[0;34m.\u001b[0m\u001b[0mfit\u001b[0m\u001b[0;34m(\u001b[0m\u001b[0mtrain\u001b[0m\u001b[0;34m,\u001b[0m\u001b[0my_train\u001b[0m\u001b[0;34m,\u001b[0m\u001b[0mbatch_size\u001b[0m\u001b[0;34m=\u001b[0m\u001b[0;36m128\u001b[0m\u001b[0;34m,\u001b[0m\u001b[0mepochs\u001b[0m\u001b[0;34m=\u001b[0m\u001b[0;36m30\u001b[0m\u001b[0;34m)\u001b[0m\u001b[0;34m\u001b[0m\u001b[0;34m\u001b[0m\u001b[0m\n",
            "\u001b[0;31mNameError\u001b[0m: name 'model' is not defined"
          ]
        }
      ]
    },
    {
      "cell_type": "code",
      "metadata": {
        "id": "FOcoKtF8IBVf",
        "colab": {
          "base_uri": "https://localhost:8080/",
          "height": 34
        },
        "outputId": "4b9a72bc-761f-450f-c4f3-51516c499f67"
      },
      "source": [
        "results = model.evaluate(val,y_val)"
      ],
      "execution_count": null,
      "outputs": [
        {
          "output_type": "stream",
          "text": [
            "1000/1000 [==============================] - 0s 315us/step\n"
          ],
          "name": "stdout"
        }
      ]
    },
    {
      "cell_type": "code",
      "metadata": {
        "id": "T4h5f67pJ1vV",
        "colab": {
          "base_uri": "https://localhost:8080/",
          "height": 34
        },
        "outputId": "ae0c9a2a-aae9-45ca-d8b5-91c8de0f4428"
      },
      "source": [
        "results"
      ],
      "execution_count": null,
      "outputs": [
        {
          "output_type": "execute_result",
          "data": {
            "text/plain": [
              "[0.8890468006134034, 0.805]"
            ]
          },
          "metadata": {
            "tags": []
          },
          "execution_count": 185
        }
      ]
    },
    {
      "cell_type": "code",
      "metadata": {
        "id": "Ae5yYxXCcQmD"
      },
      "source": [
        "preds = model.predict(xtest)"
      ],
      "execution_count": null,
      "outputs": []
    },
    {
      "cell_type": "code",
      "metadata": {
        "id": "X7vIS9GZWhzn",
        "colab": {
          "base_uri": "https://localhost:8080/",
          "height": 140
        },
        "outputId": "1f63a8ef-7cf5-4c83-c560-40086b596feb"
      },
      "source": [
        "preds"
      ],
      "execution_count": null,
      "outputs": [
        {
          "output_type": "execute_result",
          "data": {
            "text/plain": [
              "array([[0.5164512 ],\n",
              "       [0.85088354],\n",
              "       [0.93354976],\n",
              "       ...,\n",
              "       [0.3751279 ],\n",
              "       [0.89215285],\n",
              "       [0.43308294]], dtype=float32)"
            ]
          },
          "metadata": {
            "tags": []
          },
          "execution_count": 187
        }
      ]
    },
    {
      "cell_type": "code",
      "metadata": {
        "id": "mjAO_4H0RX1V"
      },
      "source": [
        "# y_pred1=[]\n",
        "\n",
        "# for i in preds:\n",
        "#   if i[0]>0.5:\n",
        "#     y_pred1.append(0)\n",
        "#   else:\n",
        "#      y_pred1.append(1)\n",
        "\n",
        "# y_pred1=np.array(y_pred1)"
      ],
      "execution_count": null,
      "outputs": []
    },
    {
      "cell_type": "code",
      "metadata": {
        "id": "KXME5UMucQ0u"
      },
      "source": [
        "result = []\n",
        "for pred in preds:\n",
        "  if pred > 0.5:\n",
        "    pred = 1\n",
        "  else:\n",
        "    pred = 0\n",
        "  result.append(pred)"
      ],
      "execution_count": null,
      "outputs": []
    },
    {
      "cell_type": "code",
      "metadata": {
        "id": "IT6B_4LccW4C"
      },
      "source": [
        "test['target'] = result"
      ],
      "execution_count": null,
      "outputs": []
    },
    {
      "cell_type": "code",
      "metadata": {
        "id": "aLnoHRupcXAY"
      },
      "source": [
        "test[['id','target']].to_csv('/content/drive/My Drive/NLP Tweets/nlp_result.csv',index=False)"
      ],
      "execution_count": null,
      "outputs": []
    },
    {
      "cell_type": "markdown",
      "metadata": {
        "id": "oa5ldHrydQdX"
      },
      "source": [
        "DENSE LAYER ONLY"
      ]
    },
    {
      "cell_type": "code",
      "metadata": {
        "id": "BCAfHDILPNYx"
      },
      "source": [
        "from sklearn.feature_extraction.text import TfidfVectorizer"
      ],
      "execution_count": null,
      "outputs": []
    },
    {
      "cell_type": "code",
      "metadata": {
        "id": "cBx_SHVNPk26"
      },
      "source": [
        "tfidf = TfidfVectorizer(max_features=3000)\n",
        "X = tfidf.fit_transform(data['ultra_pure_text']).toarray()"
      ],
      "execution_count": null,
      "outputs": []
    },
    {
      "cell_type": "code",
      "metadata": {
        "id": "rG3GIAxIP0Nh",
        "colab": {
          "base_uri": "https://localhost:8080/",
          "height": 34
        },
        "outputId": "f51823d2-61a6-4579-af6c-879b3e6124a8"
      },
      "source": [
        "X.shape"
      ],
      "execution_count": null,
      "outputs": [
        {
          "output_type": "execute_result",
          "data": {
            "text/plain": [
              "(10876, 3000)"
            ]
          },
          "metadata": {
            "tags": []
          },
          "execution_count": 48
        }
      ]
    },
    {
      "cell_type": "code",
      "metadata": {
        "id": "sDj4HGlmQELg"
      },
      "source": [
        "train = X[:6613,:]\n",
        "y_train = dataframe['target'][:6613]\n",
        "\n",
        "val = X[6613:7613,:]\n",
        "y_val = dataframe['target'][6613:7613]\n",
        "\n",
        "xtest = X[7613:,:]"
      ],
      "execution_count": null,
      "outputs": []
    },
    {
      "cell_type": "code",
      "metadata": {
        "id": "pvoTXqQGQN8b",
        "colab": {
          "base_uri": "https://localhost:8080/",
          "height": 34
        },
        "outputId": "40aa3fea-436c-4469-ee76-24453cfe996f"
      },
      "source": [
        "train.shape"
      ],
      "execution_count": null,
      "outputs": [
        {
          "output_type": "execute_result",
          "data": {
            "text/plain": [
              "(6613, 3000)"
            ]
          },
          "metadata": {
            "tags": []
          },
          "execution_count": 89
        }
      ]
    },
    {
      "cell_type": "code",
      "metadata": {
        "id": "_z_P4ISuQOby",
        "colab": {
          "base_uri": "https://localhost:8080/",
          "height": 737
        },
        "outputId": "252db393-c658-49b6-e0b5-ddbcd3c78deb"
      },
      "source": [
        "model1 = Sequential()\n",
        "model1.add(Dense(256,activation='relu',input_shape=(3000,)))\n",
        "#model1.add(Dropout(0.25))\n",
        "#model1.add(Dense(128,activation='relu'))\n",
        "#model1.add(Dense(256,activation='relu'))\n",
        "#model1.add(Dropout(0.15))\n",
        "model1.add(Dense(64,activation='relu'))\n",
        "model1.add(Dense(1,activation='sigmoid'))\n",
        "\n",
        "model1.compile(optimizer=Adam(lr=0.0001),loss='binary_crossentropy',metrics=['accuracy'])\n",
        "model1.fit(train,y_train,batch_size=64,epochs=20,class_weight='balanced')"
      ],
      "execution_count": null,
      "outputs": [
        {
          "output_type": "stream",
          "text": [
            "Epoch 1/20\n",
            "6613/6613 [==============================] - 2s 285us/step - loss: 0.5585 - acc: 0.7122\n",
            "Epoch 2/20\n",
            "6613/6613 [==============================] - 1s 111us/step - loss: 0.3490 - acc: 0.8533\n",
            "Epoch 3/20\n",
            "6613/6613 [==============================] - 1s 116us/step - loss: 0.2559 - acc: 0.9029\n",
            "Epoch 4/20\n",
            "6613/6613 [==============================] - 1s 112us/step - loss: 0.1832 - acc: 0.9345\n",
            "Epoch 5/20\n",
            "6613/6613 [==============================] - 1s 114us/step - loss: 0.1326 - acc: 0.9545\n",
            "Epoch 6/20\n",
            "6613/6613 [==============================] - 1s 111us/step - loss: 0.0969 - acc: 0.9663\n",
            "Epoch 7/20\n",
            "6613/6613 [==============================] - 1s 115us/step - loss: 0.0803 - acc: 0.9699\n",
            "Epoch 8/20\n",
            "6613/6613 [==============================] - 1s 113us/step - loss: 0.0683 - acc: 0.9722\n",
            "Epoch 9/20\n",
            "6613/6613 [==============================] - 1s 114us/step - loss: 0.0620 - acc: 0.9754\n",
            "Epoch 10/20\n",
            "6613/6613 [==============================] - 1s 111us/step - loss: 0.0601 - acc: 0.9744\n",
            "Epoch 11/20\n",
            "6613/6613 [==============================] - 1s 117us/step - loss: 0.0559 - acc: 0.9738\n",
            "Epoch 12/20\n",
            "6613/6613 [==============================] - 1s 112us/step - loss: 0.0537 - acc: 0.9755\n",
            "Epoch 13/20\n",
            "6613/6613 [==============================] - 1s 117us/step - loss: 0.0501 - acc: 0.9778\n",
            "Epoch 14/20\n",
            "6613/6613 [==============================] - 1s 116us/step - loss: 0.0492 - acc: 0.9770\n",
            "Epoch 15/20\n",
            "6613/6613 [==============================] - 1s 116us/step - loss: 0.0486 - acc: 0.9770\n",
            "Epoch 16/20\n",
            "6613/6613 [==============================] - 1s 112us/step - loss: 0.0469 - acc: 0.9778\n",
            "Epoch 17/20\n",
            "6613/6613 [==============================] - 1s 113us/step - loss: 0.0469 - acc: 0.9784\n",
            "Epoch 18/20\n",
            "6613/6613 [==============================] - 1s 112us/step - loss: 0.0445 - acc: 0.9775\n",
            "Epoch 19/20\n",
            "6613/6613 [==============================] - 1s 117us/step - loss: 0.0428 - acc: 0.9784\n",
            "Epoch 20/20\n",
            "6613/6613 [==============================] - 1s 113us/step - loss: 0.0433 - acc: 0.9794\n"
          ],
          "name": "stdout"
        },
        {
          "output_type": "execute_result",
          "data": {
            "text/plain": [
              "<keras.callbacks.History at 0x7f9f1539d2e8>"
            ]
          },
          "metadata": {
            "tags": []
          },
          "execution_count": 94
        }
      ]
    },
    {
      "cell_type": "code",
      "metadata": {
        "id": "bJyuXkZ-RFWt",
        "colab": {
          "base_uri": "https://localhost:8080/",
          "height": 263
        },
        "outputId": "b86a494f-75b6-41f7-88f2-aa872932e941"
      },
      "source": [
        "model1.summary()"
      ],
      "execution_count": null,
      "outputs": [
        {
          "output_type": "stream",
          "text": [
            "Model: \"sequential_18\"\n",
            "_________________________________________________________________\n",
            "Layer (type)                 Output Shape              Param #   \n",
            "=================================================================\n",
            "dense_57 (Dense)             (None, 256)               768256    \n",
            "_________________________________________________________________\n",
            "dense_58 (Dense)             (None, 64)                16448     \n",
            "_________________________________________________________________\n",
            "dense_59 (Dense)             (None, 1)                 65        \n",
            "=================================================================\n",
            "Total params: 784,769\n",
            "Trainable params: 784,769\n",
            "Non-trainable params: 0\n",
            "_________________________________________________________________\n"
          ],
          "name": "stdout"
        }
      ]
    },
    {
      "cell_type": "code",
      "metadata": {
        "id": "Vn9t2OBmQOZn",
        "colab": {
          "base_uri": "https://localhost:8080/",
          "height": 34
        },
        "outputId": "af361777-1b03-43b5-e103-06f8f69d0b35"
      },
      "source": [
        "results = model1.evaluate(val,y_val)"
      ],
      "execution_count": null,
      "outputs": [
        {
          "output_type": "stream",
          "text": [
            "1000/1000 [==============================] - 1s 548us/step\n"
          ],
          "name": "stdout"
        }
      ]
    },
    {
      "cell_type": "code",
      "metadata": {
        "id": "Zrjucla-QOWQ",
        "colab": {
          "base_uri": "https://localhost:8080/",
          "height": 34
        },
        "outputId": "2e7defb0-c492-450a-a8a8-d45ab0c4af2a"
      },
      "source": [
        "results"
      ],
      "execution_count": null,
      "outputs": [
        {
          "output_type": "execute_result",
          "data": {
            "text/plain": [
              "[1.5060250771045685, 0.717]"
            ]
          },
          "metadata": {
            "tags": []
          },
          "execution_count": 97
        }
      ]
    },
    {
      "cell_type": "code",
      "metadata": {
        "id": "e8sheyKplIy3"
      },
      "source": [
        "preds = model.predict(xtest)"
      ],
      "execution_count": null,
      "outputs": []
    },
    {
      "cell_type": "code",
      "metadata": {
        "id": "wzaEV8J_lcx4"
      },
      "source": [
        "result = []\n",
        "for pred in preds:\n",
        "  if pred > 0.5:\n",
        "    pred = 1\n",
        "  else:\n",
        "    pred = 0\n",
        "  result.append(pred)"
      ],
      "execution_count": null,
      "outputs": []
    },
    {
      "cell_type": "code",
      "metadata": {
        "id": "dgJC0TMJldzI"
      },
      "source": [
        "test['target'] = result"
      ],
      "execution_count": null,
      "outputs": []
    },
    {
      "cell_type": "code",
      "metadata": {
        "id": "DJ614hC2lujY"
      },
      "source": [
        "test[['id','target']].to_csv('/content/drive/My Drive/NLP Tweets/nlp_result.csv',index=False)"
      ],
      "execution_count": null,
      "outputs": []
    },
    {
      "cell_type": "code",
      "metadata": {
        "id": "LcmHrRTfmbKd",
        "colab": {
          "base_uri": "https://localhost:8080/",
          "height": 34
        },
        "outputId": "cb5702f8-69f9-48e8-c533-19e7720393a9"
      },
      "source": [
        "dataframe['target'][6613:].shape"
      ],
      "execution_count": null,
      "outputs": [
        {
          "output_type": "execute_result",
          "data": {
            "text/plain": [
              "(1000,)"
            ]
          },
          "metadata": {
            "tags": []
          },
          "execution_count": 90
        }
      ]
    }
  ]
}